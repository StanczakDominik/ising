{
 "cells": [
  {
   "cell_type": "markdown",
   "metadata": {},
   "source": [
    "# Model Isinga 2D\n",
    "### Dominik Stańczak\n",
    "Symulacja dwuwymiarowego modelu Isinga - modelu ferromagnetyka na prostokątnej siatce spinów. Każdy spin ulega losowym przerzuceniom między górą a dołem z prawdopodobieństwem z rozkładu Boltzmanna, za energie przyjmując iloczyn własnego spinu i spinów czterech najbliższych sąsiadów, oraz wkład od zewnętrznego pola (dalej zwanego magnetyzacją).\n",
    "\n",
    "Kod źródłowy symulacji można znaleźć [na www.github.com/StanczakDominik/ising](https://www.github.com/StanczakDominik/ising), zaś do uruchomienia jej polecam [dystrybucję Anaconda Pythona 3.5 dostępną na www.continuum.io/downloads](https://www.continuum.io/downloads)."
   ]
  },
  {
   "cell_type": "markdown",
   "metadata": {},
   "source": [
    "## Od strony teoretycznej:"
   ]
  },
  {
   "cell_type": "markdown",
   "metadata": {},
   "source": [
    "Energia pojedynczego spinu:\n",
    "$$E_i = -S_i \\Big(\\sum_{\\text{sąsiedzi }j} J_{ij} S_j + \\mu H_i\\Big) $$\n",
    "\n",
    "Przyjmujemy dla uproszczenia, że wszystkie oddziaływania są takie same:\n",
    "$$ J_{ij} = J $$\n",
    "Prawdopodobieństwo stanu z daną energią (rozkład kanoniczny):\n",
    "$$P(E) = Z \\exp(-\\beta E) = Z \\exp(-E / k_BT)$$\n",
    "Prawdopodobieństwo przejścia ze stanu 1 do stanu 2:\n",
    "$$P(E_1 \\to E_2) = \\max\\Big(\\frac{P(E_2)}{P(E_1)}, 1\\Big) = \\max\\Big(\\exp(-\\beta(E_2-E_1)), 1\\Big)$$\n",
    "Jeśli za stany przyjmiemy stany pojedynczych spinów, z energiami określonymi przez energię na siatce, zaś zmiana stanu to obrócenie jednego spinu w przeciwną stronę, czyli $S_i^2 = -S_i^1$:\n",
    "$$ E_2 - E_1 \\sim -S_i^2 + S_i^1 = 2 S_i ^1$$\n",
    "$$ \\Delta E = 2 S_i \\Big(\\sum_{\\text{sąsiedzi }j} J_{ij} S_j + \\mu H_i\\Big) $$\n",
    "\n",
    "Na tej podstawie możemy policzyć prawdopodobieństwo przejścia dowolnie wybranego spinu."
   ]
  },
  {
   "cell_type": "markdown",
   "metadata": {},
   "source": [
    "### Parametry warte prześledzenia:\n",
    "* $T = 1, H = 0$ - ferromagnetyk z magnetyzacją spontaniczną\n",
    "* $T = 1, H \\neq 0$ - ferromagnetyk w zewnętrznym polu\n",
    "* $T = 0.1$ - ferromagnetyk z niskim szumem termicznym\n",
    "* $T = 2$ - ferromagnetyk z wysokim szumem termicznym\n",
    "* $T > 2.26$ ($T \\sim 10$) - paramagnetyk\n",
    "* $T \\sim 2.26$ - przejście fazowe (układ zwalnia i warto zwiększyć $NT = 10^6$)\n",
    "* $T = 3, H = 1$ - paramagnetyk w stosunkowo silnym polu\n",
    "* $T = 3, H = 500$ - paramagnetyk w wyjątkowo silnym polu"
   ]
  },
  {
   "cell_type": "markdown",
   "metadata": {},
   "source": [
    "### Uruchamianie symulacji\n",
    "Należy kliknąć komórkę z kodem poniżej oraz wcisnąć `Ctrl-Enter` (`Shift-Enter`), by od razu przejść do wyników (obliczanie może chwilę trwać)."
   ]
  },
  {
   "cell_type": "code",
   "execution_count": null,
   "metadata": {
    "collapsed": false
   },
   "outputs": [],
   "source": [
    "import numpy as np\n",
    "import matplotlib.pyplot as plt\n",
    "from matplotlib import rc, animation\n",
    "\n",
    "T = 1     #temperatura. Temperatura krytyczna w bezwymiarowych jednostkach (k, J = 1): ~2.26\n",
    "H = 0.0   #wartość magnetyzacji \n",
    "N = 32    #szerokość siatki (rozmiar siatki N*N)\n",
    "\n",
    "k = 1     #stała Boltzmanna\n",
    "J = 1     #całka wymiany - sprzężenie spinu ze spinem\n",
    "mu = 1    #sprzężenie spinu i magnetyzacji\n",
    "\n",
    "NT = 10000                        #liczba iteracji czasowych\n",
    "N_snapshots = 100                 #liczba zdjęć\n",
    "snap_every = NT // N_snapshots    #co ile iteracji robić zdjęcie\n",
    "\n",
    "H_array = np.ones((N, N)) * H                 #magnetyzacja niezależna od położenia, aby ustawić zależną...\n",
    "# X, Y = np.meshgrid(np.arange(N) - N/2, np.arange(N) - N/2) #pomocnicze macierze\n",
    "# H_array = -H*np.exp((-X*X-Y-Y)/100)         #przykład magnetyzacji zależnej od położenia\n",
    "\n",
    " \n",
    "# symulacja jest losowa, jeśli chcemy ustalić warunki początkowe należy zaseedować generator liczb losowych\n",
    "# np.random.seed(1)\n",
    "\n",
    "############## \"wnętrze\" symulacji\n",
    "rc('animation', html='html5')\n",
    "rc('figure', max_open_warning=500)\n",
    "\n",
    "spins = np.random.randint(0, 2, size=(N, N)) * 2 - 1\n",
    "def flip_spin(spins):\n",
    "    x, y = np.random.randint(0, N, size=2)\n",
    "    beta = 1/k/T\n",
    "    energia = 2 * spins[x,y] *\\\n",
    "        (J* (spins[(x+1)%N, y] + spins[(x-1)%N, y] + spins[x, (y+1)%N] + spins[x, (y-1)%N]) +\\\n",
    "         mu * H_array[x,y]) \n",
    "    boltzmann = np.exp(-energia*beta)\n",
    "    acceptance = np.random.random()\n",
    "    if boltzmann > acceptance:\n",
    "        spins[x, y] *= -1\n",
    "\n",
    "spins_history = np.empty(shape=(N_snapshots, N, N))\n",
    "def petla_czasowa():\n",
    "    for i in range(NT):\n",
    "        if i % snap_every == 0:\n",
    "            spins_history[i // snap_every] = spins\n",
    "        flip_spin(spins)\n",
    "\n",
    "petla_czasowa()\n",
    "\n",
    "def animacja(spins):\n",
    "    fig = plt.figure()\n",
    "    ax = fig.add_subplot(111)\n",
    "    IM = ax.imshow(spins_history[0], origin='lower', cmap='Greys',\n",
    "                  interpolation='none', extent=(-N/2, N/2, -N/2, N/2))\n",
    "    title = ax.set_title(\"T= {}\".format(T) + \" i = 0 \")\n",
    "    def animate(i):\n",
    "        IM.set_array(spins_history[i])\n",
    "        title.set_text(\"T= {}\".format(T) + \" i = {} \".format(i*snap_every))\n",
    "        return [IM, title]\n",
    "\n",
    "    anim = animation.FuncAnimation(fig, animate, frames = N_snapshots)\n",
    "    return anim\n",
    "animacja(spins)"
   ]
  },
  {
   "cell_type": "markdown",
   "metadata": {},
   "source": [
    "  "
   ]
  }
 ],
 "metadata": {
  "kernelspec": {
   "display_name": "Python 3",
   "language": "python",
   "name": "python3"
  },
  "language_info": {
   "codemirror_mode": {
    "name": "ipython",
    "version": 3
   },
   "file_extension": ".py",
   "mimetype": "text/x-python",
   "name": "python",
   "nbconvert_exporter": "python",
   "pygments_lexer": "ipython3",
   "version": "3.5.1"
  }
 },
 "nbformat": 4,
 "nbformat_minor": 0
}
